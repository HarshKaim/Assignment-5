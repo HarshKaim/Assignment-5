{
 "cells": [
  {
   "cell_type": "markdown",
   "id": "8dd7fbcf",
   "metadata": {},
   "source": [
    "Q1. Explain Class and Object with respect to Object-Oriented Programming. Give a suitable example.\n",
    "\n",
    "Ans. Class are the user defined data types that provides the layout for creating real world entities called objects which have variables as their property and methods to acess them "
   ]
  },
  {
   "cell_type": "code",
   "execution_count": 1,
   "id": "b94bf09b",
   "metadata": {},
   "outputs": [],
   "source": [
    "class temp: # class named as temp\n",
    "    pass"
   ]
  },
  {
   "cell_type": "code",
   "execution_count": 2,
   "id": "7d300b7f",
   "metadata": {},
   "outputs": [],
   "source": [
    "temp_obj=temp() # object of the class 'temp' named as 'temp_obj'"
   ]
  },
  {
   "cell_type": "markdown",
   "id": "ec296089",
   "metadata": {},
   "source": [
    "Q2. Name the four pillars of OOPs.\n",
    "\n",
    "Ans. \n",
    "1. Data Abstraction\n",
    "2. Data Encapsulation\n",
    "3. Inheritance\n",
    "4. Polymorphism"
   ]
  },
  {
   "cell_type": "markdown",
   "id": "dd0b6cdd",
   "metadata": {},
   "source": [
    "Q3. Explain why the __init__() function is used. Give a suitable example.\n",
    "\n",
    "Ans. __init__() is a special function that is used as a constructor of the class that is it is used to initialize the data variables with some values"
   ]
  },
  {
   "cell_type": "code",
   "execution_count": 4,
   "id": "e8694a03",
   "metadata": {},
   "outputs": [],
   "source": [
    "class temp: \n",
    "    \n",
    "    def __init__(self, num): # __init__() function\n",
    "        self.num=num"
   ]
  },
  {
   "cell_type": "code",
   "execution_count": 5,
   "id": "14d9065e",
   "metadata": {},
   "outputs": [],
   "source": [
    "temp_obj=temp(23) #initializing class object with num value as 23"
   ]
  },
  {
   "cell_type": "markdown",
   "id": "1456fea2",
   "metadata": {},
   "source": [
    "Q4. Why self is used in OOPs?\n",
    "\n",
    "Ans. self is used in OOPs so that the methods of the functions can access the methods of the self class "
   ]
  },
  {
   "cell_type": "markdown",
   "id": "0180cc51",
   "metadata": {},
   "source": [
    "Q5. What is inheritance? Give an example for each type of inheritance.\n",
    "\n",
    "Ans. Inheritance is one of the main property of OOPs in which one class can inherit properties of some other class.\n",
    "There are different kind of inheritance\n",
    "1. Multilevel Inheritance: Class C inherits property of class B who in turn inherits property of class A\n",
    "2. Multiple Inheritance: Class C inherits property of class B as well as Class A\n",
    "3. Hierarchical Inheritance: Both Class C and Class B inherits same class that is Class A"
   ]
  },
  {
   "cell_type": "code",
   "execution_count": 15,
   "id": "d745bf21",
   "metadata": {},
   "outputs": [],
   "source": [
    "#Multilevel Inheritance\n",
    "\n",
    "class A:\n",
    "    \n",
    "    def fun1(self):\n",
    "        print('This is class A function')\n",
    "        \n",
    "class B(A):\n",
    "    \n",
    "    def fun2(self):\n",
    "        print('This is class B function')\n",
    "        \n",
    "class C(B):\n",
    "    \n",
    "    def fun3(self):\n",
    "        print('This is class C function')"
   ]
  },
  {
   "cell_type": "code",
   "execution_count": 16,
   "id": "f2341d21",
   "metadata": {},
   "outputs": [
    {
     "name": "stdout",
     "output_type": "stream",
     "text": [
      "This is class C function\n",
      "This is class B function\n",
      "This is class A function\n"
     ]
    }
   ],
   "source": [
    "obj=C()\n",
    "obj.fun3()\n",
    "obj.fun2()\n",
    "obj.fun1()"
   ]
  },
  {
   "cell_type": "code",
   "execution_count": 37,
   "id": "a2e09c8a",
   "metadata": {},
   "outputs": [],
   "source": [
    "#Multiple Inheritance\n",
    "\n",
    "class G:\n",
    "    \n",
    "    def fun1(self):\n",
    "        print('This is class A function')\n",
    "        \n",
    "class H:\n",
    "    \n",
    "    def fun2(self):\n",
    "        print('This is class B function')\n",
    "        \n",
    "class I(G,H):\n",
    "    \n",
    "    def fun3(self):\n",
    "        print('This is class C function')"
   ]
  },
  {
   "cell_type": "code",
   "execution_count": 38,
   "id": "0243ee8e",
   "metadata": {},
   "outputs": [],
   "source": [
    "ojb=I()\n",
    "I.fun3()\n",
    "I.fun2()\n",
    "i"
   ]
  },
  {
   "cell_type": "code",
   "execution_count": 30,
   "id": "97c53c59",
   "metadata": {},
   "outputs": [],
   "source": [
    "#Hierarchical Inheritance\n",
    "\n",
    "class D:\n",
    "    \n",
    "    def fun1(self):\n",
    "        print('This is class A function')\n",
    "        \n",
    "class E(D):\n",
    "    \n",
    "    def fun2(self):\n",
    "        print('This is class B function')\n",
    "\n",
    "class F(D):\n",
    "    \n",
    "    def fun3(self):\n",
    "        print('This is class C function')"
   ]
  },
  {
   "cell_type": "code",
   "execution_count": 36,
   "id": "d6d6b4dc",
   "metadata": {},
   "outputs": [
    {
     "name": "stdout",
     "output_type": "stream",
     "text": [
      "This is class A function\n",
      "This is class B function\n",
      "This is class A function\n",
      "This is class C function\n"
     ]
    }
   ],
   "source": [
    "obj1=E()\n",
    "obj2=F()\n",
    "obj1.fun1()\n",
    "obj1.fun2()\n",
    "obj2.fun3()\n",
    "obj2.fun1()"
   ]
  },
  {
   "cell_type": "code",
   "execution_count": null,
   "id": "119451ce",
   "metadata": {},
   "outputs": [],
   "source": []
  }
 ],
 "metadata": {
  "kernelspec": {
   "display_name": "Python 3 (ipykernel)",
   "language": "python",
   "name": "python3"
  },
  "language_info": {
   "codemirror_mode": {
    "name": "ipython",
    "version": 3
   },
   "file_extension": ".py",
   "mimetype": "text/x-python",
   "name": "python",
   "nbconvert_exporter": "python",
   "pygments_lexer": "ipython3",
   "version": "3.9.12"
  }
 },
 "nbformat": 4,
 "nbformat_minor": 5
}
